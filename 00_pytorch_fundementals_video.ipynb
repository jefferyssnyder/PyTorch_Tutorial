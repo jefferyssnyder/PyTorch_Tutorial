{
  "nbformat": 4,
  "nbformat_minor": 0,
  "metadata": {
    "colab": {
      "provenance": [],
      "gpuType": "T4",
      "toc_visible": true,
      "authorship_tag": "ABX9TyPyQxbds/ZVZY3Zn0nUz2Mw",
      "include_colab_link": true
    },
    "kernelspec": {
      "name": "python3",
      "display_name": "Python 3"
    },
    "language_info": {
      "name": "python"
    }
  },
  "cells": [
    {
      "cell_type": "markdown",
      "metadata": {
        "id": "view-in-github",
        "colab_type": "text"
      },
      "source": [
        "<a href=\"https://colab.research.google.com/github/jefferyssnyder/PyTorch_Tutorial/blob/main/00_pytorch_fundementals_video.ipynb\" target=\"_parent\"><img src=\"https://colab.research.google.com/assets/colab-badge.svg\" alt=\"Open In Colab\"/></a>"
      ]
    },
    {
      "cell_type": "markdown",
      "source": [
        "## 00. Pytorch Fundementals\n",
        "\n",
        "Resource notebook: https://www.learnpytorch.io/00_pytorch_fundamentals/\n",
        "\n",
        "If there are questions: https://github.com/mrdbourke/pytorch-deep-learning/discussions"
      ],
      "metadata": {
        "id": "RT6S-fUwW6jl"
      }
    },
    {
      "cell_type": "code",
      "source": [
        "import torch\n",
        "import pandas as pd\n",
        "import numpy as np\n",
        "import matplotlib.pyplot as plt\n",
        "print(torch.__version__)"
      ],
      "metadata": {
        "colab": {
          "base_uri": "https://localhost:8080/"
        },
        "id": "ZWPr1hLJVe-T",
        "outputId": "35aa9fa9-2f6a-4ac6-c946-ad7d51a134dc"
      },
      "execution_count": null,
      "outputs": [
        {
          "output_type": "stream",
          "name": "stdout",
          "text": [
            "2.0.1+cu118\n"
          ]
        }
      ]
    },
    {
      "cell_type": "markdown",
      "source": [
        "##Introduction to Tensors\n",
        "Youtube Explaination:\n",
        "https://www.google.com/url?sa=t&rct=j&q=&esrc=s&source=web&cd=&cad=rja&uact=8&ved=2ahUKEwivjeekhK3_AhU9pokEHS6xCJEQwqsBegQIRBAF&url=https%3A%2F%2Fwww.youtube.com%2Fwatch%3Fv%3Df5liqUk0ZTw&usg=AOvVaw1KW57CM97Uk4c9ywg_gIpf\n",
        "\n",
        "![tensor image.png](data:image/png;base64,iVBORw0KGgoAAAANSUhEUgAAAXoAAACFCAMAAABizcPaAAABO1BMVEX////8/PyioqL09PT4+Pjq6urm5ubv7+/j4+Pf39/6+vrIyMipqanX19fx8fHb29tcXFy4uLhfX1+jo6PR0dEAif9XV1fMzMytra2/v7//kwCzs7NmZmb/kgCCgoKQkJBvb2/0+f+amprE3f+Kvv84nP//z+P/Rp55eXkAjf/8MTL/UqT8PD3/8fhfqf/8SEn/sGD/xI3+lpf/8uf/mgAAhf+01//8NTb/5ub/5vD/2tpNTU3/0qP9ZWb+urr+ycn9W1z/pjqgzf91t///5crm8v//vXT/2bH/wt3/c7P8ICL/p87/ir7/m8f8KCn9e3z/sFP/oy0blP//6tX/9+zV6f+GvP//w4FGov//y5X/umz/1an/sluWxv//2+v/Xqj+oqP+L5b9hYX+rq79m5v8AAD/gLn9f3//xt1XkffTAAAWZklEQVR4nO2dC3/TNtfAfYkd20kcx0mca5MQxpLexgMNtNAxYLQrg1FW2lLYBXZ79rzf/xO850jyLbYcJyltoT7br7SOjqT8LR2dI0uyIGSSSSaZZJJJJplkkkkmmWSSyTWQQqV02VX4cqXQH4/7Nd6nY6eaIo9KpyPS33LNDjevecRsdjoF9nuh02maiak7VXmZwsodTyrL5DOfmAMLxHb6nM97VjFFLh3HYcBbjlM+j3qpu7Zt5civhm3bjpqUuOY40jKFVRxkYMMPp7tMPvPJwLaLjc6gq3A+T4fetGx273r2mJNm2GvNUS/V6XYtqlCwut1p9L1esG8pllMQlpBGr9/vd7tj+DlcJp+5pOzY2MVyPPIp0Qt92yYmQbEsHuCB05yjYoB+yO5izx5G0O86oWLkZHuUSixrqds3tzQsK2QfTMX7hfZ2D72SD6SKfNMaQ960baInKr7xZXmOrY57JZiXkI8106pjlx0LgUOTLrsGx62V4FgNN6XIbTZzSc5vNKGv6v2ueF/aDJZoBr/LPKI53bHu/dXqOpYzlAWx03Ucp4clUPRaD/4m/aPhOPmxEzUqXdpEB7bkJmf5sjzHdrfbtR0NWugQTKrdxGG54gyUQfwwozqW2bNwiC9aPdNC9F6tcl2SmWWKXafQdHZVcReGGrlrYRWGjr0QDBe9PIRCutgBdMdWxo7Vxe9h4NUBud1QC8vq50kCR+07XXGR4gTszVDjCm14kmPDX05HqOx2+8OBNRAZ+lzXGUs9Gzt5w+qOnRh73rEduFMlwqhsWT1pbNlqIM+ei94AZmDGCaaKNRg4Fg+90rBs+M22GgrJ1quVQdHbgN7uOdAjRMeqIQmoa8Mb8OcUht7wvyo2SwuKsqC5961ub+CMRfwNv5CN9xcTOPbC6OF2ggNhoRmuOfbQzLWwpbUMAY1zzW31Kn6dFuIC9HbNjPZxxbbBnlDzTMfHodUL5GnmBnZRzos4KhRycsvBIiuAUM/HGgxEb3SBaM3qGhS9XyszB10Q7Lsx6FrFvCJS9HAnnUbXSuMMxwhD37eG5Kt2DUGDVqYaLbwOQxiEN+hAY8XNXA3uuYAJrEIMi9Qid+DeQlOHDtDzLoqKrvetim/rTU0H6iIODvExVt8eCICggB7JQDZNGXpAKE9q6/MOHc2KtoPobZ7TqKKhH0KPQBYqRe/XSqC5GAObeCQGRQ91sLgO1iyh6KF6GlQ+h99So18VmoyQBw9OJ8MMKxG+nA4J7Hmctlhp2F1bEAeWG0/I4FLsgmPtoW+MbWcX3D0D0DvxHaxmOVoBGwtQBWOAAibIzxPQN0mdLWLddAs+BYPDqxJBD/6XbkOcQNEHauWhp/bZRW9CM9R5Oc4Qir5kuXVvAVmHjnbQj4owYHX7qmB2aUmkAizBciJhGxx4LsjAsout2thr9QXH6lUaHZuij89CHNjVPuntTXvQp6IE8vTQO8RTKFtOfiZ6YdCF/wSGPlArHz3pQn6rt7vLtXpAz+reQLI4mNLBvlwdgGXO57rMtWLoF3VvUHTiW/Zsi5gM2qChsSGeroe+Z6Hf0rCS0ANxiHywFZQCIaGXp4teBn70A1uYjR7ytJsMfbBW8M3JmBhGX7Gsjp0uDokKRS9btNugcQmhxyphijG1oBXbUpZEr1t2RysPSYUV8FxqerUP7OwaDjWewRnbfVEwx91E9Hmnywx7D3wvI98baIE8SZybB2+/adlSuQRWuZACveKQu0nQB2sFvmxPVgwxhF5zAFLHWs7DaToD3ZCLmG8QfaVv0JgZatGr6UUbR+Pl0LccnLmwrZ77h2PtNqFrW+Ou0yNjr0MNDrhRPcsG9M4uLy9wyWhnNMH/BveRMPDyFDrgBu5q+FUsB119gfj1vMxUh4ysY+KE0j8CtYIB2IYAA/16TGygR5mjfj3UcjG/3qEBMoQk4P5i5K051NY7kqDvAgDbQueyCV49/I+/sgSLigaecnfMBmpVGg/68GVyRfhXaYG9E4p9/KzUG4wruf5QFMp93kSbUPI+EiuQvpoP5QmVHgzGeK3QHwz6xE1q8KdM8n0StTSwDviHEqqVYEiDQS8nDmk+Yr+vQ8MkGnK/v5DJMfps+haqN+6j1VH6fbRwTSSgD8eDXoXYzjL+SoCxBJlkkkkmmWSSSSaZZJJJJplkkkkmmWSSSSaZfIYiRuQCijj/Mj43EUUjl5OnJJczzhPNBRTxGQqhYubDYiKZ8wMDZUSKwEIA/nkV8RkKUDFbnRgpnB8XKEOp1RoRKZnydWYv5kxVqkpRGcq5c0Ofy3ViSpCGJfPcyvgMxZDzulSttKalUD6/Jgm3t9ackmKxWZUaimmcTxGfoximUpYk6P21UkDKuqbk5fPCAugVVS8HCwD7UytKDTV/jZt9Lq+WJKlQq5XKvui6pirnaXDkvKLpuu6XgOyLUkG73ug1QA9tHmj7oih581yHWWCvBPLHPlBD9Ip83dEDeVXJAx4iyY4fJyJKipOIc0m9S1YEss/QE/RA3jTNgFfPCXf8+CsUEQWuxt4ykel5RYD9ue7oRYq+BKOqyaIe0+SHUzT+MllA5FIW/VYduMpRZuih2V8D9ElzJh56Na90PM+vwcMnGnLLS9VyhwMYRnXfbdS5yrm8X0ShfAnoEYJhBFlEr6TIgmnMTupNn8S1ZRc9OJM1P7Jq5jiOByT3AqKqpLKIyJDNlq9c4ChDRcpDV7daLJWqF4ue9E20eb49da1g6nkTUfQUuDY5lNa1BTFDp49ea0hFGkwVGhovyoQArFwoFEi6qqQrxPVHt70iNV1lhaOMLmaN6VaqxVpNumD06GapqkYcOBlJA3nieJFLaTw6nHVBR00jPuAMBUhcKJLoEX8okQDVQ6/rBakIgVWNhFMJ6GGABMew0ShIUpkGo6KcVytShymrXPSgrGoQWIFyqwplXSx6IK/5cxgVbLNiTg1cmT2Zh92m4mtwLatXYNG3EDVz+pu66CHKQfQ19O8xkOUaHLjrhH0N0JcgGMWLsqIBenrXVIyCeQbHU74E9HDjAya1gs3e8G8GWMD8zAkl+Pb5YtXLo5w404JfV2uwXl6MmTMJowd4GnYlbgPA/PLEK681cHCm6E2K3lPmejgyKoNbiegLDWl4geix0TSwX5MpEx27JlogjcTVpBuq+Vl1we5drLYatH9r/G9KBFsabWgNDNwjcyZh9JCfQpxL/uyNSIYOZB9ErwN6qiznbhhcdeKDwo0rtaSLR59Xp0wqtYDUfAJ6TZk1aWVA9ybocdYFfMLk+UV3+oQ3ZxJGX8bWgJ6TcPPdrZuRzPZ/f/bsewNcK/gaOkMvuq2+AuRlVP726WTy9NuI8t7ZL2cHgoFzChqOKxeOXtGwXwesoog9AU0gWkCpqM+cRjWgjRWlFrXKMwdm10JonDmTMHrd7RXf31utR9B/da+Ockqte8lDb1D0umpiVX5rt1dW2u2fp5SfwrV2++iEtp1LQE9LRUOhkM5JPRxqPkvYDbH+yXkYporoSzjrkmKSiwWaihY/ZxJFj1ef1Vej6O/XV9+8/WZ19Y3oB2JB9BppNQcr7d+2Ts4mKwch5R/ak6dnP0/av3kQLgc9kg/59eClo/kk6POz0OcJevDikuZaAmVi8AU9Kz5wj0V/q16//yaC/lb9zQ3oD3hPEtCfHL+Hli0ctc+CuicrKwBd+GUyOblc9GgVjXA0S8xnoN3xJUfQFzChkT78ZVrp0P9eP70RbfU37+OVfbgtSeiZHLVD1l7c+/UY/jloT7YuF32A781nz25wPuJIFOJXz+7HpNv75enTH475WqxGsQZnX9iPsfVEoNWfzkAvnmz90G6fxCj/ZzIRrwr67+ur95ZEv/+uXn8bTXZGhrWVbzlaXo1i0Qtc9Kerq++EGeiPcZTdilF+30YzdDXQP7sHw9ly6E9XYUj8KpLqYAUcvPeTSXsrVsuv0XzoT+ur9f006GO8SyA/eSpcDfQ33tVXv1oS/f16/dm7GPQ/r0DXFo7brsk9H/Q34TafCrPQw6j6vj3l4YDcAd9SFK4I+jf109P6cui/v/dMeFePot86JmZ+pf0+TitQo3nQo3t5GtTiD7O/RBz7M7BCYuCbXq7B2T+FdrSkwYERNg49lV/b7b1YLb9Gc6C/f2/1zX5IKw69SEp83z4KK8PA+1sIwmUPs8ujFxLQ71HjGq/FapQePbgE726EtWLQn7VXoL+dHE3CrR5Cqh/CEL5o9EB+ssXVYjVKjX4frM3391H2k9AfQ6FnZ0eTlb2gMo76B0QuOaS6GPR7K5P2gn49gr4XRb9K5nDuJYdUB8SrDUdUGEtNiLO7coVCqk+GHhra0VaCFqsRB/2Nm/f3w/ntf8PkXeJEAmR5cHZ2MBVQ7f32Hyo/XwP0v7YnRydJWqxGHPQzvsdMDydJ+QtH/+uKN8JytFiNwujx85nzQviMIXbSGP5Ko2wqS8zX79+Mn+CYJReG3gDbeuf9HZC5nMsSFM9bQMbS4/oJfPIVeUpVwecsybt06MIUVF74KdX91fqbuRS8sqPo7y07hyMIt+5F5nCMNpOVOzwtVqOYB4RJC8jY2pKkB4QzVp/RB4QLPpv9Csb6W/Mo+IVH+J6+fbs0+t/fRmYuxTuuzNPqq80m3cxTSlh9ViApms1mNbQioVp0lTXuqsGcWWHKRYJ+3hUJN76B0OLc0Kf5KCw8iItpeetwymB/U60+8xeQSWXV9BeDuMrDFue+Ta0+W2AxCITTp7/Xvzj0ul5uVUDIEjI9YQlUiawswaQF9iAZn8OUXOVCQU1YfdYoMN1KobHA6rO3p2Byvjj0mkaWpKRdfYYJdbZyRSSPH/FaKd3qMyYLrbn88tDj4iWN7LjR9dmrz2g61U3GFvvgRbJ0bcbqM0xXLi+43PULRA/OSV6ZuZnHXT5Bk7k3iED1lGX+MCt7yfAWLLTI+0tEb3p7bpJ2cfv7vk1Z9lz4wNXEnUB+Ecg+Q8/Qy8TpNulic35UZND15WZ4yThd7UMuJ8VjnjIuDMrQ+62etkkzKSpy6bnN22/1KZT9fT8YlGXoA7a+5J5dUFMSbL3uHXagB2x93r1aq5kJG7FKnnL50m391vEW7yOORCA++PCAV5xhcLXcJL6HU3LjnXQhFYjieThyyz/4gHeuRTCkkqRi+XI9nAN8fnB0EPcRV6YgPv84Go3Wn8el3Flb2xDjtfwaeX692sCJBLaNLcGv97axVSXN9+tb1SK73Clzhgqc73S3sRWrxdJifv3vuA5oAZni++3KpA3/kWdpC6J/PloffVxfH8Wxf7S9cTs1erKhp5Z6Q08N5wHKfjSLWxtmbegh683Jhh6yq+Ri91KF+Z60J0fHJ3uT4MKgedF/HK1/EDZ/XP8YTfjd4cYc6MtsLxVdfs5DL7LgCfCRDT2BOZyOq8wPqfz7dvEbesJ8j38+wvZ+p42rlRY1OA8+wI+vR+ub0+k2t7cfpUfPNvSQoxIUhXseC8FHV+s3YvZSkU0D3C1JdAsfmbBoLTRzuYzE8v2BLFlZysN5OYq2+tdrr79bmxN9iR6VYPI39AA+OU/sRiM6X4/KJj8oYIEXKl/CXqoYvsft9i+cj2IlAvHD1y9jbP3jwxeb86N3n1IJX//444epuhso4L9vJj6lEu8+IvLku5iqy/KyT6kWlhi+xzDQnsR/FC8RiD+Ch/N1pKTttT+EudF7z2Zx9J7K8+WfIyp/PhASns0Kr7e3D0Fe/B2p+T8vXtxd+tnsohLlC4MsXZu3OPqfwMP5ONVEhb/WnggLoGelvxqtR9FT8PDBg8QVCa+3Hz1G2Zmu+M7hxvZd/5teNvq9NiO/lK3f/Gm0HrbOjw/XHhL0CVq02Dj00I+eR9BvPkDZ/HcdRvQk9I/W/oqvOPi6Vwj93oq3NG+pYdYYTYH6Z23jye3bt8G73OBrkWLj0L8cfTAi6Klsro9eCjPRx+H8+/DJ7auD/qDtLxBbEP3mc5xFEEdT4+w/L9bA3m5vbBz+N04rUKNYg/MAEceifzUaGTPQb8Atjw6yO9uHjx+tXRX0QP7pSfxHCRKCuDka/SgQIGFjv/P4Icjd7duPH8doBWvEWX3GQQ/lvRKS0T85XFtb2z58PaX5aO2R8OTKoIdYisniIRUOiP9+HI1+iku6qK0XuOjhHm8Kyejvfvdw5/GT7cNwu//ucG3nKqFfaa9QMRa39a/W0e94FZv07/9uL+bh8NCzRp9izeWT7UchxQ3wda8Q+pMtVyIfJcg0xM2vn3+IzCKwpDs7PC2vRnOhh0b/IKjFR/+H79ei/A993SuEPu1HYfk0j0pSod9cX/8ppBWLntzuPwhrT27D2Escrtt3Lx/9dImfDj05Jw1yT79RX+Cgf8kafRL6u9svgP3ORti738AA93BjY/vF/y59o74Z2GVPTzFYZKN+ip369LA1k3eu5DzoxdH6v2GtGPSPX2xsvH69sX0YimbR33q482T7r4c7V+R4CpyaZSufP9HxFO7SYIVzmioX/ejPCPqXngubZHD+fgHO5eHthzGVuQK2Hh8q6LqmmexQFrLuq1RrVKppD2WpVshzCV1TZx871yLLS1HmQC/+3/PpsZvFEEGteFv/9927j2Mrc/vFJaInRxH5Z5/RY+eCZ5+lPIrIO/tsWJ557FzTPXROijm0fI4NPeLmpjGlNeeGns1N98nKZaAnR5a70po6dk7C+qc5gCt44t/sY+fwZEQ8ea7Q0CNP/jinQM36HgmnQM2USzoFCpssXWlLT+enx85562/JMXIz6iKyY+poHuqMY+fYw1TMvkQehCSe+OedfcbPEl2C5LPPklqCeGlnn+ETfff1BdPHzpFr/LUAnhCYXhbpjp3DY/t1kng69+iGHlOesfoMfQIlbkOPPkNZDJ13ddHo6VN5JKEFjp3Lk4XTetJSgGAebKE15qEo3LVeboHk1H4lvDQ4mFkQPZ6Li92De2YsZKeSt12AAauGzrmsNluoCz2Rv9LYyOlMuXLhz2YF95hNckA/fYJM4OTZkf1p3tQUUEh57FxgJWoi+rmOk65O7aXyBv6E1Wf6cht6lpTAe8lCx0kHr8zKgh5J7Z7fnyI5lTgTHlgCVWoWXSnwBhDotBUvVcfd0APWu+FdLSatPvOLqFw8eiH4Mj7ulbmzWLgy/oYeMN/u2K3wHJ3Qhp6y5p/kTZ2H5A093uozlMaFn+R91SSw5pKN/+UEev7qM0zn+QS+81COHcuZLrtv3kuSLvj8+qsmgZXGZGWYpiWvPmNnwNN0gbc2+MoJu4H8ZNjHsneVeFsbyMowMtjzV5C5C8iYl+C/q8R1HhJf7UOUabJr8q6SJAnvKvFeHsH36xd7Qw9T9d9YgWHkNUfvvRxJw3nQ4Ltguc7WAu+lwlWDueAbZ0lclaEn6HFKIvAm2E/xvtnQC2d5k9jXSQj6aqfTqUwJ9wVJ8wvutSqX/G3ixLksFK49elMtS9WYF86e7/tmK9ECIHiOvkXiOglZ9zvd4vGcidq5vm+2UC2GhDy6KZZ4R1lcC8FXn7ih6AW+b7YUDIevqUCcg1imJOUkavoy8uzwi3Ah51jG5yh+gBp8H+x5v2/WPfuCCSntXMv4HCVwaETQvUw5i5qyDO/4irAHe73JCyxCnZLkB32LFBFTxvITr5lk8pnK/wNtJcR/wlzr2gAAAABJRU5ErkJggg==)"
      ],
      "metadata": {
        "id": "03b7AkCpYbQj"
      }
    },
    {
      "cell_type": "code",
      "source": [
        "# Scalar\n",
        "scalar = torch.tensor(7)\n",
        "# scalar\n",
        "# scalar.ndim\n",
        "scalar.item()"
      ],
      "metadata": {
        "colab": {
          "base_uri": "https://localhost:8080/"
        },
        "id": "ihk4pFGwYg7U",
        "outputId": "a2576dab-e663-417b-f1cf-c5333334edee"
      },
      "execution_count": null,
      "outputs": [
        {
          "output_type": "execute_result",
          "data": {
            "text/plain": [
              "7"
            ]
          },
          "metadata": {},
          "execution_count": 2
        }
      ]
    },
    {
      "cell_type": "code",
      "source": [
        "# Vector\n",
        "vector = torch.tensor([7,7])\n",
        "# vector\n",
        "# vector.ndim\n",
        "vector.shape"
      ],
      "metadata": {
        "colab": {
          "base_uri": "https://localhost:8080/"
        },
        "id": "fAr52KVqYotu",
        "outputId": "29f53b4d-84c6-4878-87d5-8e260d05927a"
      },
      "execution_count": null,
      "outputs": [
        {
          "output_type": "execute_result",
          "data": {
            "text/plain": [
              "torch.Size([2])"
            ]
          },
          "metadata": {},
          "execution_count": 3
        }
      ]
    },
    {
      "cell_type": "code",
      "source": [
        "#MATRIX\n",
        "MATRIX = torch.tensor([[7,8], [9,10]])\n",
        "# MATRIX\n",
        "# MATRIX.ndim\n",
        "MATRIX.shape"
      ],
      "metadata": {
        "colab": {
          "base_uri": "https://localhost:8080/"
        },
        "id": "gxfdaC4DZyDf",
        "outputId": "38c0dffe-ae71-4d96-de7e-57048e8a8fe1"
      },
      "execution_count": null,
      "outputs": [
        {
          "output_type": "execute_result",
          "data": {
            "text/plain": [
              "torch.Size([2, 2])"
            ]
          },
          "metadata": {},
          "execution_count": 4
        }
      ]
    },
    {
      "cell_type": "code",
      "source": [
        "TENSOR = torch.tensor([[[1,2,3],\n",
        "                        [3,6,9],\n",
        "                        [2,4,5]]])\n",
        "\n",
        "# TENSOR.ndim\n",
        "# TENSOR.shape\n",
        "TENSOR[0][1]\n"
      ],
      "metadata": {
        "colab": {
          "base_uri": "https://localhost:8080/"
        },
        "id": "mXq7KnMnab4F",
        "outputId": "7a063d6f-5215-41e1-9750-91ef30bf501c"
      },
      "execution_count": null,
      "outputs": [
        {
          "output_type": "execute_result",
          "data": {
            "text/plain": [
              "tensor([3, 6, 9])"
            ]
          },
          "metadata": {},
          "execution_count": 5
        }
      ]
    },
    {
      "cell_type": "markdown",
      "source": [
        "### Random Tensors\n",
        "\n",
        "Why random tensors?\n",
        "They are important because the way many nueral networks learn is that they start with tensors full of random numbers and adjust those random numbers to better represent the data.\n",
        "\n",
        "Start with random numbers --> vlook at data --> update random numbers\n",
        "https://pytorch.org/docs/stable/generated/torch.rand.html"
      ],
      "metadata": {
        "id": "vmCHN1ZrdA1F"
      }
    },
    {
      "cell_type": "code",
      "source": [
        "# Create a random tensor of shape (3,4)\n",
        "\n",
        "random_tensor = torch.rand(3,4)\n",
        "random_tensor"
      ],
      "metadata": {
        "colab": {
          "base_uri": "https://localhost:8080/"
        },
        "id": "yBbRifQ4ai3p",
        "outputId": "93945c7a-317e-4d60-9d6d-5c367ea2527e"
      },
      "execution_count": null,
      "outputs": [
        {
          "output_type": "execute_result",
          "data": {
            "text/plain": [
              "tensor([[0.4981, 0.8299, 0.3390, 0.7008],\n",
              "        [0.5516, 0.7869, 0.3467, 0.2404],\n",
              "        [0.7601, 0.0416, 0.0678, 0.2403]])"
            ]
          },
          "metadata": {},
          "execution_count": 6
        }
      ]
    },
    {
      "cell_type": "code",
      "source": [
        "# Create random tensor similar to the size of an image (height, width, color channels (R,G,B))\n",
        "random_image_size_tensor = torch.rand(size = (224, 224, 3))\n",
        "random_image_size_tensor.shape, random_image_size_tensor.ndim"
      ],
      "metadata": {
        "colab": {
          "base_uri": "https://localhost:8080/"
        },
        "id": "Ch1PF55Jd-sE",
        "outputId": "5bce5c3c-8af4-43d3-aed4-caa737571b37"
      },
      "execution_count": null,
      "outputs": [
        {
          "output_type": "execute_result",
          "data": {
            "text/plain": [
              "(torch.Size([224, 224, 3]), 3)"
            ]
          },
          "metadata": {},
          "execution_count": 7
        }
      ]
    },
    {
      "cell_type": "markdown",
      "source": [
        "### Zeros and Ones"
      ],
      "metadata": {
        "id": "i3QQ8PA6e11j"
      }
    },
    {
      "cell_type": "code",
      "source": [
        "# Create a tensor of zeros\n",
        "zero = torch.zeros(size = (3,4))\n",
        "zero"
      ],
      "metadata": {
        "colab": {
          "base_uri": "https://localhost:8080/"
        },
        "id": "hQ3jcrKXfoQ6",
        "outputId": "22d2dea4-0185-49ef-d7eb-49d251d9c6a4"
      },
      "execution_count": null,
      "outputs": [
        {
          "output_type": "execute_result",
          "data": {
            "text/plain": [
              "tensor([[0., 0., 0., 0.],\n",
              "        [0., 0., 0., 0.],\n",
              "        [0., 0., 0., 0.]])"
            ]
          },
          "metadata": {},
          "execution_count": 8
        }
      ]
    },
    {
      "cell_type": "code",
      "source": [
        "# Create a tensor of ones\n",
        "ones = torch.ones(size = (3,4))\n",
        "ones"
      ],
      "metadata": {
        "colab": {
          "base_uri": "https://localhost:8080/"
        },
        "id": "oTUXv6CqgD6D",
        "outputId": "716e4fb7-1280-4f06-e908-838a4f4c484e"
      },
      "execution_count": null,
      "outputs": [
        {
          "output_type": "execute_result",
          "data": {
            "text/plain": [
              "tensor([[1., 1., 1., 1.],\n",
              "        [1., 1., 1., 1.],\n",
              "        [1., 1., 1., 1.]])"
            ]
          },
          "metadata": {},
          "execution_count": 9
        }
      ]
    },
    {
      "cell_type": "markdown",
      "source": [
        "### Create a range of tensors and tensor-lik"
      ],
      "metadata": {
        "id": "dz3qyWVPgJz-"
      }
    },
    {
      "cell_type": "code",
      "source": [
        "# Use torch.range\n",
        "one_to_ten = torch.arange(start=1, end=11, step=1)\n",
        "one_to_ten"
      ],
      "metadata": {
        "colab": {
          "base_uri": "https://localhost:8080/"
        },
        "id": "vkooyHjWggL2",
        "outputId": "dd580bae-b190-4f63-c427-b19bfff082b2"
      },
      "execution_count": null,
      "outputs": [
        {
          "output_type": "execute_result",
          "data": {
            "text/plain": [
              "tensor([ 1,  2,  3,  4,  5,  6,  7,  8,  9, 10])"
            ]
          },
          "metadata": {},
          "execution_count": 10
        }
      ]
    },
    {
      "cell_type": "code",
      "source": [
        "# Creating tensor-like\n",
        "ten_zeros = torch.zeros_like(input=one_to_ten)\n",
        "ten_zeros"
      ],
      "metadata": {
        "colab": {
          "base_uri": "https://localhost:8080/"
        },
        "id": "bOXRgm8Eg0lK",
        "outputId": "55eda8d0-8fb9-4da1-8013-16173d428c36"
      },
      "execution_count": null,
      "outputs": [
        {
          "output_type": "execute_result",
          "data": {
            "text/plain": [
              "tensor([0, 0, 0, 0, 0, 0, 0, 0, 0, 0])"
            ]
          },
          "metadata": {},
          "execution_count": 11
        }
      ]
    },
    {
      "cell_type": "markdown",
      "source": [
        "### Tensor Data Types\n",
        "**Note:** Tensor datatypes is on of the 3 big errors with PyTorch & deep learning\n",
        "\n",
        "https://en.wikipedia.org/wiki/Precision_(computer_science)\n",
        "1. Tensors not right datatype - 'tensor.dtype'\n",
        "2. Tensors not right shape - 'tensor.shape'\n",
        "3. Tensors no on the right device - 'tensor.device'"
      ],
      "metadata": {
        "id": "rupnOK55hdZS"
      }
    },
    {
      "cell_type": "code",
      "source": [
        "# Float 32 Tensor\n",
        "float_32_tensor = torch.tensor([3.0,6.0,9.0], \n",
        "                               dtype=None, # what datatype is the tensor (e.g. float32 or float16)\n",
        "                               device=None, # What device is the tensor on\n",
        "                               requires_grad=False) # Whether or not to track gradients\n",
        "float_32_tensor\n"
      ],
      "metadata": {
        "colab": {
          "base_uri": "https://localhost:8080/"
        },
        "id": "yVopX9Zhh6iA",
        "outputId": "c1f05b33-d917-49d4-eba5-89ad285b73cc"
      },
      "execution_count": null,
      "outputs": [
        {
          "output_type": "execute_result",
          "data": {
            "text/plain": [
              "tensor([3., 6., 9.])"
            ]
          },
          "metadata": {},
          "execution_count": 12
        }
      ]
    },
    {
      "cell_type": "code",
      "source": [
        "some_tensor = torch.rand(size = (3,4))\n",
        "# some_tensor\n",
        "print(f\"Datatype of tensor: {some_tensor.dtype}\")\n",
        "print(f\"Shape of tensor: {some_tensor.shape}\")\n",
        "print(f\"Device tensor is on a: {some_tensor.device}\")"
      ],
      "metadata": {
        "colab": {
          "base_uri": "https://localhost:8080/"
        },
        "id": "-KkhjWQmlEET",
        "outputId": "f449c441-f1a7-47f0-8a1b-a100e4d53182"
      },
      "execution_count": null,
      "outputs": [
        {
          "output_type": "stream",
          "name": "stdout",
          "text": [
            "Datatype of tensor: torch.float32\n",
            "Shape of tensor: torch.Size([3, 4])\n",
            "Device tensor is on a: cpu\n"
          ]
        }
      ]
    },
    {
      "cell_type": "markdown",
      "source": [
        "### Manipulating Tensors (tensor operations)\n",
        "Tensor operations include:\n",
        "\n",
        "\n",
        "*   Addition\n",
        "*   Subtraction\n",
        "*   Multiplication (element-wise)\n",
        "*   Division\n",
        "*   Matrix multiplication\n",
        "\n",
        "\n"
      ],
      "metadata": {
        "id": "LUk4S_4zmlVU"
      }
    },
    {
      "cell_type": "code",
      "source": [
        "# Create tensor\n",
        "tensor = torch.tensor([1,2,3])\n",
        "tensor + 10"
      ],
      "metadata": {
        "colab": {
          "base_uri": "https://localhost:8080/"
        },
        "id": "SWZZn2x4n6Zs",
        "outputId": "7324766d-8207-4987-b461-50ffd42d9111"
      },
      "execution_count": null,
      "outputs": [
        {
          "output_type": "execute_result",
          "data": {
            "text/plain": [
              "tensor([11, 12, 13])"
            ]
          },
          "metadata": {},
          "execution_count": 14
        }
      ]
    },
    {
      "cell_type": "code",
      "source": [
        "tensor * 10"
      ],
      "metadata": {
        "colab": {
          "base_uri": "https://localhost:8080/"
        },
        "id": "qxndeBdaoGJa",
        "outputId": "ef84fa0a-74df-421e-9563-369327a94ae3"
      },
      "execution_count": null,
      "outputs": [
        {
          "output_type": "execute_result",
          "data": {
            "text/plain": [
              "tensor([10, 20, 30])"
            ]
          },
          "metadata": {},
          "execution_count": 15
        }
      ]
    },
    {
      "cell_type": "code",
      "source": [
        "#  Try PyTorch built-in functions\n",
        "torch.mul(tensor, 10)"
      ],
      "metadata": {
        "colab": {
          "base_uri": "https://localhost:8080/"
        },
        "id": "WCIaDthaoSvU",
        "outputId": "667a021d-a314-4702-8617-a1818d56c627"
      },
      "execution_count": null,
      "outputs": [
        {
          "output_type": "execute_result",
          "data": {
            "text/plain": [
              "tensor([10, 20, 30])"
            ]
          },
          "metadata": {},
          "execution_count": 16
        }
      ]
    },
    {
      "cell_type": "markdown",
      "source": [
        "### Matrix Multiplication\n",
        "\n",
        "Two main ways of performin multiplication in neural networks and deep learning\n",
        "\n",
        "1.   Element-wise multiplication\n",
        "2.   Matrix Multiplication (dot product)\n",
        "\n",
        "\n",
        "---\n",
        "https://www.mathsisfun.com/algebra/matrix-multiplying.html\n",
        "\n",
        "There are 2 main rules that performing matrix multiplication needs to satisfy\n",
        "1.  The **inner dimensions** must match\n",
        "\n",
        "\n",
        "*   (3,2) @ (3,2) won't work\n",
        "*   (2,3) @ (3,2) will work\n",
        "*   (3,2) @ (2,3) will work\n",
        "\n",
        "2.The resulting matrix has the shape of the **outer dimensions**:\n",
        "* (2,3) @ (3,2) -> (2,2)\n",
        "* (3,2) @ (2,3) -> (3,3)\n",
        "\n",
        "\n",
        "\n"
      ],
      "metadata": {
        "id": "fH5XLgbupXJM"
      }
    },
    {
      "cell_type": "code",
      "source": [
        "torch.matmul(torch.rand(3,10), torch.rand(10,6)).shape"
      ],
      "metadata": {
        "colab": {
          "base_uri": "https://localhost:8080/"
        },
        "id": "ZitFGsqmvuh3",
        "outputId": "e5f0c2ca-bf29-47dc-ed8e-299ce5d98e71"
      },
      "execution_count": null,
      "outputs": [
        {
          "output_type": "execute_result",
          "data": {
            "text/plain": [
              "torch.Size([3, 6])"
            ]
          },
          "metadata": {},
          "execution_count": 17
        }
      ]
    },
    {
      "cell_type": "code",
      "source": [
        "# Element - wise multiplication\n",
        "\n",
        "print(tensor, \"*\", tensor, \"=\", tensor*tensor)\n"
      ],
      "metadata": {
        "colab": {
          "base_uri": "https://localhost:8080/"
        },
        "id": "JkSQRGMAqUvq",
        "outputId": "21a53198-db2f-4674-d6b8-f0f22c988396"
      },
      "execution_count": null,
      "outputs": [
        {
          "output_type": "stream",
          "name": "stdout",
          "text": [
            "tensor([1, 2, 3]) * tensor([1, 2, 3]) = tensor([1, 4, 9])\n"
          ]
        }
      ]
    },
    {
      "cell_type": "code",
      "source": [
        "# Matrix Multiplication\n",
        "print(\"Matrix multiplication of \", tensor, \"*\", tensor, \"=\", torch.matmul(tensor, tensor))"
      ],
      "metadata": {
        "colab": {
          "base_uri": "https://localhost:8080/"
        },
        "id": "TC_--gYVq5d5",
        "outputId": "233d59e1-97ac-484b-b2bc-5f71ab27a38b"
      },
      "execution_count": null,
      "outputs": [
        {
          "output_type": "stream",
          "name": "stdout",
          "text": [
            "Matrix multiplication of  tensor([1, 2, 3]) * tensor([1, 2, 3]) = tensor(14)\n"
          ]
        }
      ]
    },
    {
      "cell_type": "code",
      "source": [
        "# Matrix Multiplucation by hand\n",
        "1*1 + 2*2 + 3*3\n"
      ],
      "metadata": {
        "colab": {
          "base_uri": "https://localhost:8080/"
        },
        "id": "waMzZxg9sCnS",
        "outputId": "268d004a-d493-423c-95a2-a513baf59f3d"
      },
      "execution_count": null,
      "outputs": [
        {
          "output_type": "execute_result",
          "data": {
            "text/plain": [
              "14"
            ]
          },
          "metadata": {},
          "execution_count": 20
        }
      ]
    },
    {
      "cell_type": "code",
      "source": [
        "%%time\n",
        "value = 0\n",
        "for i in range(len(tensor)):\n",
        "  value += tensor[i] * tensor[i]\n",
        "print(value)"
      ],
      "metadata": {
        "colab": {
          "base_uri": "https://localhost:8080/"
        },
        "id": "cdMC6R1cscZP",
        "outputId": "2bbfb147-d2a1-4a1e-84c0-dc5b6f453790"
      },
      "execution_count": null,
      "outputs": [
        {
          "output_type": "stream",
          "name": "stdout",
          "text": [
            "tensor(14)\n",
            "CPU times: user 1.72 ms, sys: 0 ns, total: 1.72 ms\n",
            "Wall time: 1.73 ms\n"
          ]
        }
      ]
    },
    {
      "cell_type": "code",
      "source": [
        "%%time\n",
        "torch.matmul(tensor, tensor)"
      ],
      "metadata": {
        "colab": {
          "base_uri": "https://localhost:8080/"
        },
        "id": "uVOXNelfs87Z",
        "outputId": "cbeebe69-f604-427b-dab9-7f18d6f6f48b"
      },
      "execution_count": null,
      "outputs": [
        {
          "output_type": "stream",
          "name": "stdout",
          "text": [
            "CPU times: user 81 µs, sys: 13 µs, total: 94 µs\n",
            "Wall time: 97.3 µs\n"
          ]
        },
        {
          "output_type": "execute_result",
          "data": {
            "text/plain": [
              "tensor(14)"
            ]
          },
          "metadata": {},
          "execution_count": 22
        }
      ]
    },
    {
      "cell_type": "markdown",
      "source": [
        "### One of the most common errors in deep learning are shape errors\n",
        "\n",
        "http://matrixmultiplication.xyz/"
      ],
      "metadata": {
        "id": "-3cvL673tKhH"
      }
    },
    {
      "cell_type": "code",
      "source": [
        "# Shapes for matrix multiplications\n",
        "tensor_A = torch.tensor([[1,2],\n",
        "                         [3,4],\n",
        "                         [5,6]])\n",
        "\n",
        "tensor_B = torch.tensor([[7, 10],\n",
        "                         [8,11],\n",
        "                         [9,12]])\n",
        "\n",
        "# torch.mm(tensor_A, tensor_B) #torch.mm is an alias for torch.matmul # This will error"
      ],
      "metadata": {
        "id": "4ZoYwuRZw0O4"
      },
      "execution_count": null,
      "outputs": []
    },
    {
      "cell_type": "markdown",
      "source": [
        "To fix our tensor shape issues, we can maniplulate the shape of on of our tensors using torch.transpose\n",
        "\n",
        "A **transpose** switches the axes or dimensions of a given tensor"
      ],
      "metadata": {
        "id": "_sqpL9ocya5i"
      }
    },
    {
      "cell_type": "code",
      "source": [
        "tensor_B.T, tensor_B"
      ],
      "metadata": {
        "colab": {
          "base_uri": "https://localhost:8080/"
        },
        "id": "h6GmocLhyw7u",
        "outputId": "fc2e1aef-38d1-4b7d-e0d3-6e8b66917d30"
      },
      "execution_count": null,
      "outputs": [
        {
          "output_type": "execute_result",
          "data": {
            "text/plain": [
              "(tensor([[ 7,  8,  9],\n",
              "         [10, 11, 12]]),\n",
              " tensor([[ 7, 10],\n",
              "         [ 8, 11],\n",
              "         [ 9, 12]]))"
            ]
          },
          "metadata": {},
          "execution_count": 24
        }
      ]
    },
    {
      "cell_type": "code",
      "source": [
        "# The matrix multiplication operation works when tensor_B is transposed\n",
        "print(f\"Original shapes: tensor_A = {tensor_A.shape}, tensor_B = {tensor_B.shape}\")\n",
        "print(f\"New shapes: tensor_A = {tensor_A.shape}, tensor_B.T = {tensor_B.T.shape} \\n\")\n",
        "\n",
        "output = torch.mm(tensor_A, tensor_B.T)\n",
        "print(f\"Output:\\n {output}\")"
      ],
      "metadata": {
        "colab": {
          "base_uri": "https://localhost:8080/"
        },
        "id": "4XgpObEdyzsb",
        "outputId": "53932ea5-fc01-477e-fc85-053e7d6092b7"
      },
      "execution_count": null,
      "outputs": [
        {
          "output_type": "stream",
          "name": "stdout",
          "text": [
            "Original shapes: tensor_A = torch.Size([3, 2]), tensor_B = torch.Size([3, 2])\n",
            "New shapes: tensor_A = torch.Size([3, 2]), tensor_B.T = torch.Size([2, 3]) \n",
            "\n",
            "Output:\n",
            " tensor([[ 27,  30,  33],\n",
            "        [ 61,  68,  75],\n",
            "        [ 95, 106, 117]])\n"
          ]
        }
      ]
    },
    {
      "cell_type": "markdown",
      "source": [
        "### Finding the min, max, mean, sum, ect (tensor aggregation)"
      ],
      "metadata": {
        "id": "j_sTZ6sdzfwU"
      }
    },
    {
      "cell_type": "code",
      "source": [
        "# Create a tensor\n",
        "x = torch.arange(0, 100, 10)\n",
        "x, x.dtype"
      ],
      "metadata": {
        "colab": {
          "base_uri": "https://localhost:8080/"
        },
        "id": "BKdiXUnkNk2z",
        "outputId": "279fed55-043c-4a0c-e8f8-bc6fc9241962"
      },
      "execution_count": null,
      "outputs": [
        {
          "output_type": "execute_result",
          "data": {
            "text/plain": [
              "(tensor([ 0, 10, 20, 30, 40, 50, 60, 70, 80, 90]), torch.int64)"
            ]
          },
          "metadata": {},
          "execution_count": 32
        }
      ]
    },
    {
      "cell_type": "code",
      "source": [
        "# Find the min\n",
        "torch.min(x), x.min()"
      ],
      "metadata": {
        "colab": {
          "base_uri": "https://localhost:8080/"
        },
        "id": "sIlek9oDN0QW",
        "outputId": "ccc0abab-3ab4-430d-9cd2-bc4c817c19f5"
      },
      "execution_count": null,
      "outputs": [
        {
          "output_type": "execute_result",
          "data": {
            "text/plain": [
              "(tensor(0), tensor(0))"
            ]
          },
          "metadata": {},
          "execution_count": 29
        }
      ]
    },
    {
      "cell_type": "code",
      "source": [
        "# find the max\n",
        "torch.max(x), x.max()"
      ],
      "metadata": {
        "colab": {
          "base_uri": "https://localhost:8080/"
        },
        "id": "u7ntLBgpOeUN",
        "outputId": "2552a272-109c-4c38-f66c-7b25609208c8"
      },
      "execution_count": null,
      "outputs": [
        {
          "output_type": "execute_result",
          "data": {
            "text/plain": [
              "(tensor(90), tensor(90))"
            ]
          },
          "metadata": {},
          "execution_count": 30
        }
      ]
    },
    {
      "cell_type": "code",
      "source": [
        "# find the mean - note: the torch.mean function requires a tensor of a float32 datatype to work\n",
        "torch.mean(x.type(torch.float32)), x.type(torch.float32).mean()"
      ],
      "metadata": {
        "colab": {
          "base_uri": "https://localhost:8080/"
        },
        "id": "loNd4GMROlCH",
        "outputId": "085ce0a0-ffcf-4f34-ac93-85f2699f0421"
      },
      "execution_count": null,
      "outputs": [
        {
          "output_type": "execute_result",
          "data": {
            "text/plain": [
              "(tensor(45.), tensor(45.))"
            ]
          },
          "metadata": {},
          "execution_count": 38
        }
      ]
    },
    {
      "cell_type": "code",
      "source": [
        "# find the sum\n",
        "torch.sum(x), x.sum()"
      ],
      "metadata": {
        "colab": {
          "base_uri": "https://localhost:8080/"
        },
        "id": "VUOc2D68OsHO",
        "outputId": "c483e1b1-e315-4de7-d11e-25d2cb66c7b6"
      },
      "execution_count": null,
      "outputs": [
        {
          "output_type": "execute_result",
          "data": {
            "text/plain": [
              "(tensor(450), tensor(450))"
            ]
          },
          "metadata": {},
          "execution_count": 40
        }
      ]
    },
    {
      "cell_type": "code",
      "source": [
        "# find the position of the min\n",
        "torch.argmin(x), x.argmin(), x[0], x[torch.argmin(x)]\n"
      ],
      "metadata": {
        "colab": {
          "base_uri": "https://localhost:8080/"
        },
        "id": "QSTYdINrPn09",
        "outputId": "90cc9ce8-793d-4a49-e3c9-6430949552c2"
      },
      "execution_count": null,
      "outputs": [
        {
          "output_type": "execute_result",
          "data": {
            "text/plain": [
              "(tensor(0), tensor(0), tensor(0), tensor(0))"
            ]
          },
          "metadata": {},
          "execution_count": 46
        }
      ]
    },
    {
      "cell_type": "code",
      "source": [
        "# find the position of the max\n",
        "torch.argmax(x), x.argmax(), x[9], x[torch.argmax(x)]"
      ],
      "metadata": {
        "colab": {
          "base_uri": "https://localhost:8080/"
        },
        "id": "wpB_1mbXRowY",
        "outputId": "a2739188-7977-4492-e36f-0f90e39bed6c"
      },
      "execution_count": null,
      "outputs": [
        {
          "output_type": "execute_result",
          "data": {
            "text/plain": [
              "(tensor(9), tensor(9), tensor(90), tensor(90))"
            ]
          },
          "metadata": {},
          "execution_count": 48
        }
      ]
    },
    {
      "cell_type": "markdown",
      "source": [
        "### Reshaping, stacking, squeezing, and unsqueezing tensors\n",
        "* Reshape - reshapes an input tensor to defined shape\n",
        "* View - Return a view of an input tensor of certain shape but keep the same memory\n",
        "* Staking - combining multiple tensors on top of each other (vstack) or side by side (hstack)\n",
        "* Squeeze - removes all '1' demensions from tensor\n",
        "* Unsqueeze - add a '1' demension to a target tensor\n",
        "* Permute - Return a view of the input with demensions permuted( swaped in a certain way)"
      ],
      "metadata": {
        "id": "VAS8c0yER9H_"
      }
    },
    {
      "cell_type": "code",
      "source": [
        "# Create tensor\n",
        "import torch\n",
        "x = torch.arange(1.,10.)\n",
        "# x, x.shape\n",
        "\n",
        "y = torch.arange(3., 30, 3)\n",
        "y, y.shape"
      ],
      "metadata": {
        "colab": {
          "base_uri": "https://localhost:8080/"
        },
        "id": "dqR-lZ5qTexv",
        "outputId": "b42ac612-13a4-43cd-a30e-57990732e6a8"
      },
      "execution_count": null,
      "outputs": [
        {
          "output_type": "execute_result",
          "data": {
            "text/plain": [
              "(tensor([ 3.,  6.,  9., 12., 15., 18., 21., 24., 27.]), torch.Size([9]))"
            ]
          },
          "metadata": {},
          "execution_count": 77
        }
      ]
    },
    {
      "cell_type": "code",
      "source": [
        "# Add an extra demension\n",
        "x_reshaped = x.reshape(1,9)\n",
        "x_reshaped, x_reshaped.shape"
      ],
      "metadata": {
        "colab": {
          "base_uri": "https://localhost:8080/"
        },
        "id": "mg51PYChTva2",
        "outputId": "643315f4-6cee-412c-98a6-e1982b7901b8"
      },
      "execution_count": null,
      "outputs": [
        {
          "output_type": "execute_result",
          "data": {
            "text/plain": [
              "(tensor([[1., 2., 3., 4., 5., 6., 7., 8., 9.]]), torch.Size([1, 9]))"
            ]
          },
          "metadata": {},
          "execution_count": 66
        }
      ]
    },
    {
      "cell_type": "code",
      "source": [
        "# Change the view\n",
        "z = x.view(1,9)\n",
        "z, z.shape"
      ],
      "metadata": {
        "colab": {
          "base_uri": "https://localhost:8080/"
        },
        "id": "S7lIMS_1UChz",
        "outputId": "101a8c96-cef3-4b6e-c829-b5da0598223f"
      },
      "execution_count": null,
      "outputs": [
        {
          "output_type": "execute_result",
          "data": {
            "text/plain": [
              "(tensor([[1., 2., 3., 4., 5., 6., 7., 8., 9.]]), torch.Size([1, 9]))"
            ]
          },
          "metadata": {},
          "execution_count": 68
        }
      ]
    },
    {
      "cell_type": "code",
      "source": [
        "# chaning z changing x (bc a view of the tensor shares the same memory as the original target)\n",
        "z[:,0] = 5\n",
        "z, x"
      ],
      "metadata": {
        "colab": {
          "base_uri": "https://localhost:8080/"
        },
        "id": "xtRYoJzWVFVc",
        "outputId": "ed670e92-0b8b-42f5-c4ac-65f742087b10"
      },
      "execution_count": null,
      "outputs": [
        {
          "output_type": "execute_result",
          "data": {
            "text/plain": [
              "(tensor([[5., 2., 3., 4., 5., 6., 7., 8., 9.]]),\n",
              " tensor([5., 2., 3., 4., 5., 6., 7., 8., 9.]))"
            ]
          },
          "metadata": {},
          "execution_count": 69
        }
      ]
    },
    {
      "cell_type": "code",
      "source": [
        "# Stack tenors on top of others\n",
        "x_stacked = torch.stack([x, x, y, y], dim=1)\n",
        "x_stacked\n"
      ],
      "metadata": {
        "colab": {
          "base_uri": "https://localhost:8080/"
        },
        "id": "pEsiJDGvVTeL",
        "outputId": "8f2b5d2e-09c5-4edd-ef3c-2d6e715827e0"
      },
      "execution_count": null,
      "outputs": [
        {
          "output_type": "execute_result",
          "data": {
            "text/plain": [
              "tensor([[ 1.,  1.,  3.,  3.],\n",
              "        [ 2.,  2.,  6.,  6.],\n",
              "        [ 3.,  3.,  9.,  9.],\n",
              "        [ 4.,  4., 12., 12.],\n",
              "        [ 5.,  5., 15., 15.],\n",
              "        [ 6.,  6., 18., 18.],\n",
              "        [ 7.,  7., 21., 21.],\n",
              "        [ 8.,  8., 24., 24.],\n",
              "        [ 9.,  9., 27., 27.]])"
            ]
          },
          "metadata": {},
          "execution_count": 79
        }
      ]
    },
    {
      "cell_type": "code",
      "source": [
        "# torch.sqeeze() - removes all single demensions from a target tensor\n",
        "print(f\"Previous tensor: {x_reshaped}\") \n",
        "print(f\"Previous shape: {x_reshaped.shape}\")\n",
        "\n",
        "# Remove extra demension from x_shaped\n",
        "x_squeezed = x_reshaped.squeeze()\n",
        "print(f\"\\nNew tensor: {x_squeezed}\") \n",
        "print(f\"New shape: {x_squeezed.shape}\")"
      ],
      "metadata": {
        "colab": {
          "base_uri": "https://localhost:8080/"
        },
        "id": "WAaNyqyfVwUV",
        "outputId": "312e8dc9-7f00-4ba5-ba2d-e6f66cafc761"
      },
      "execution_count": null,
      "outputs": [
        {
          "output_type": "stream",
          "name": "stdout",
          "text": [
            "Previous tensor: tensor([[5., 2., 3., 4., 5., 6., 7., 8., 9.]])\n",
            "Previous shape: torch.Size([1, 9])\n",
            "\n",
            "New tensor: tensor([5., 2., 3., 4., 5., 6., 7., 8., 9.])\n",
            "New shape: torch.Size([9])\n"
          ]
        }
      ]
    },
    {
      "cell_type": "code",
      "source": [
        "x_reshaped_3_demension = x_reshaped.reshape(1,1,9)\n",
        "x_reshaped_3_demension, x_reshaped_3_demension.shape"
      ],
      "metadata": {
        "colab": {
          "base_uri": "https://localhost:8080/"
        },
        "id": "19FseSAAXWvN",
        "outputId": "a569d790-4956-4a9e-f8a3-d4819e0345d5"
      },
      "execution_count": null,
      "outputs": [
        {
          "output_type": "execute_result",
          "data": {
            "text/plain": [
              "(tensor([[[5., 2., 3., 4., 5., 6., 7., 8., 9.]]]), torch.Size([1, 1, 9]))"
            ]
          },
          "metadata": {},
          "execution_count": 86
        }
      ]
    },
    {
      "cell_type": "code",
      "source": [
        "x_reshaped_3_demension.squeeze()"
      ],
      "metadata": {
        "colab": {
          "base_uri": "https://localhost:8080/"
        },
        "id": "fdN1u3W7Xt0-",
        "outputId": "eab5f0af-049e-4a3a-dccb-37544c32bf4a"
      },
      "execution_count": null,
      "outputs": [
        {
          "output_type": "execute_result",
          "data": {
            "text/plain": [
              "tensor([5., 2., 3., 4., 5., 6., 7., 8., 9.])"
            ]
          },
          "metadata": {},
          "execution_count": 87
        }
      ]
    },
    {
      "cell_type": "code",
      "source": [
        "#  torch.unsqueeze() - adds a single demension to a target tensor at a specivic dim (demension)\n",
        "print(f\"Prvious target: {x_squeezed}\")\n",
        "print(f\"Previous shape: {x_squeezed.shape}\")\n",
        "\n",
        "# Add extra demension\n",
        "x_unsqueezed = x_squeezed.unsqueeze(dim=0)\n",
        "print(f\"\\nNew tensor: {x_unsqueezed}\")\n",
        "print(f\"New tensor: {x_unsqueezed.shape}\")"
      ],
      "metadata": {
        "colab": {
          "base_uri": "https://localhost:8080/"
        },
        "id": "HyXgW7jmYXxB",
        "outputId": "50703172-f367-4cc7-fbdf-e1084c3e7532"
      },
      "execution_count": null,
      "outputs": [
        {
          "output_type": "stream",
          "name": "stdout",
          "text": [
            "Prvious target: tensor([5., 2., 3., 4., 5., 6., 7., 8., 9.])\n",
            "Previous shape: torch.Size([9])\n",
            "\n",
            "New tensor: tensor([[5., 2., 3., 4., 5., 6., 7., 8., 9.]])\n",
            "New tensor: torch.Size([1, 9])\n"
          ]
        }
      ]
    },
    {
      "cell_type": "code",
      "source": [
        "# torch.permute - rearranges a target tensor in a specified order\n",
        "x_original = torch.rand(size=(224, 224, 3)) # [height, width, color_channels]\n",
        "\n",
        "# Permute the original tensor to rearrange the axis (or dim) order\n",
        "x_permuted = x_original.permute(2, 0, 1) # shifts axis 0->1, 1->2, 2->0\n",
        "\n",
        "print(f\"Previous shape: {x_original.shape}\")\n",
        "print(f\"New tensor: {x_permuted.shape}\") # [color_channels, height, width]\n"
      ],
      "metadata": {
        "colab": {
          "base_uri": "https://localhost:8080/"
        },
        "id": "FXmmWiZDako_",
        "outputId": "46972ca4-8cac-46b3-a8e7-60e979864b5d"
      },
      "execution_count": null,
      "outputs": [
        {
          "output_type": "stream",
          "name": "stdout",
          "text": [
            "Previous shape: torch.Size([224, 224, 3])\n",
            "New tensor: torch.Size([3, 224, 224])\n"
          ]
        }
      ]
    },
    {
      "cell_type": "markdown",
      "source": [
        "### Indexing (selecting data from tensor)\n",
        "\n",
        "Indexing with PyTorh is similar to indexing with NumPy"
      ],
      "metadata": {
        "id": "G1Mv9aF3b7wz"
      }
    },
    {
      "cell_type": "code",
      "source": [
        "#  create a tensor\n",
        "import torch\n",
        "x = torch.arange(1,10).reshape(1,3,3)\n",
        "x, x.shape"
      ],
      "metadata": {
        "colab": {
          "base_uri": "https://localhost:8080/"
        },
        "id": "W42LJtN-g8hF",
        "outputId": "1425dba7-7c95-41ad-bdae-205b3753e8fd"
      },
      "execution_count": null,
      "outputs": [
        {
          "output_type": "execute_result",
          "data": {
            "text/plain": [
              "(tensor([[[1, 2, 3],\n",
              "          [4, 5, 6],\n",
              "          [7, 8, 9]]]),\n",
              " torch.Size([1, 3, 3]))"
            ]
          },
          "metadata": {},
          "execution_count": 96
        }
      ]
    },
    {
      "cell_type": "code",
      "source": [
        "# Let's index on the new tensor\n",
        "x[0]"
      ],
      "metadata": {
        "colab": {
          "base_uri": "https://localhost:8080/"
        },
        "id": "BJd9rrMBhI26",
        "outputId": "1782ecd5-aabf-4401-877e-8a4e30b53075"
      },
      "execution_count": null,
      "outputs": [
        {
          "output_type": "execute_result",
          "data": {
            "text/plain": [
              "tensor([[1, 2, 3],\n",
              "        [4, 5, 6],\n",
              "        [7, 8, 9]])"
            ]
          },
          "metadata": {},
          "execution_count": 97
        }
      ]
    },
    {
      "cell_type": "code",
      "source": [
        "# Let's index on the middle bracket (dim=1)\n",
        "x[0][0]\n"
      ],
      "metadata": {
        "colab": {
          "base_uri": "https://localhost:8080/"
        },
        "id": "9Zc8jkzWhRYm",
        "outputId": "4e891d81-59e5-4605-b63e-27eedbed06f6"
      },
      "execution_count": null,
      "outputs": [
        {
          "output_type": "execute_result",
          "data": {
            "text/plain": [
              "tensor([1, 2, 3])"
            ]
          },
          "metadata": {},
          "execution_count": 98
        }
      ]
    },
    {
      "cell_type": "code",
      "source": [
        "# let's index on the morst inner demension (last dimension)\n",
        "x[0][2][2]"
      ],
      "metadata": {
        "colab": {
          "base_uri": "https://localhost:8080/"
        },
        "id": "jiAwp4Tchm8n",
        "outputId": "05c20729-b22d-43b4-ab0e-aac7dfca3da5"
      },
      "execution_count": null,
      "outputs": [
        {
          "output_type": "execute_result",
          "data": {
            "text/plain": [
              "tensor(9)"
            ]
          },
          "metadata": {},
          "execution_count": 103
        }
      ]
    },
    {
      "cell_type": "code",
      "source": [
        "# You can use a ':' to select all of the target dimension\n",
        "x[:,0]"
      ],
      "metadata": {
        "colab": {
          "base_uri": "https://localhost:8080/"
        },
        "id": "TGUOYBduhweo",
        "outputId": "72a2e9ac-db9d-4a86-88d9-edbf5da9cb13"
      },
      "execution_count": null,
      "outputs": [
        {
          "output_type": "execute_result",
          "data": {
            "text/plain": [
              "tensor([[1, 2, 3]])"
            ]
          },
          "metadata": {},
          "execution_count": 104
        }
      ]
    },
    {
      "cell_type": "code",
      "source": [
        "# Get all of the 0th dim but only 1 of 2nd dim\n",
        "x[:,:,1]"
      ],
      "metadata": {
        "colab": {
          "base_uri": "https://localhost:8080/"
        },
        "id": "r6plJuYMiUKE",
        "outputId": "963a0a30-a9d1-4829-fdf6-1b7a0868f6b0"
      },
      "execution_count": null,
      "outputs": [
        {
          "output_type": "execute_result",
          "data": {
            "text/plain": [
              "tensor([[2, 5, 8]])"
            ]
          },
          "metadata": {},
          "execution_count": 106
        }
      ]
    },
    {
      "cell_type": "code",
      "source": [
        "# Get all of the 0th dim but only the 1 index of the 1st and 2nd dim\n",
        "x[:, 1, 1]"
      ],
      "metadata": {
        "colab": {
          "base_uri": "https://localhost:8080/"
        },
        "id": "tJsyBEYQitd7",
        "outputId": "8c02d3c8-129d-4a5b-b34c-2a66cfe3c14b"
      },
      "execution_count": null,
      "outputs": [
        {
          "output_type": "execute_result",
          "data": {
            "text/plain": [
              "tensor([5])"
            ]
          },
          "metadata": {},
          "execution_count": 109
        }
      ]
    },
    {
      "cell_type": "code",
      "source": [
        "# Get index 0 of 0th and 1st dim and all the values of the 2nd dim\n",
        "x[0,0,:]"
      ],
      "metadata": {
        "colab": {
          "base_uri": "https://localhost:8080/"
        },
        "id": "pBUv6QgOjNG-",
        "outputId": "f5eb480f-83b8-4a1a-b9ca-5a5d1b868c50"
      },
      "execution_count": null,
      "outputs": [
        {
          "output_type": "execute_result",
          "data": {
            "text/plain": [
              "tensor([1, 2, 3])"
            ]
          },
          "metadata": {},
          "execution_count": 110
        }
      ]
    },
    {
      "cell_type": "code",
      "source": [
        "# Index on x to return 9\n",
        "print(x[0][2][2])\n",
        "\n",
        "# index on x to return 3,6,9\n",
        "print(x[:,:,2])"
      ],
      "metadata": {
        "colab": {
          "base_uri": "https://localhost:8080/"
        },
        "id": "mz-I_VmD2WtW",
        "outputId": "b0f531e1-99d1-4ad9-9062-f74daa851841"
      },
      "execution_count": null,
      "outputs": [
        {
          "output_type": "stream",
          "name": "stdout",
          "text": [
            "tensor(9)\n",
            "tensor([[3, 6, 9]])\n"
          ]
        }
      ]
    },
    {
      "cell_type": "markdown",
      "source": [
        "### PytTorch tensors & NumPy\n",
        "NumPy is a popular scientific Python numerical computing library.\n",
        "  And, bc of this, PyTorch has a function to interact with NumPy.\n",
        "\n",
        "* Data in NumPy, want in Pytorch tensor -> torch.from_numpy(ndarray)\n",
        "* PyTorch tensor -> NumPy -> torch.Tensor.numpy()\n"
      ],
      "metadata": {
        "id": "m51pCpOt2pOo"
      }
    },
    {
      "cell_type": "code",
      "source": [
        "# NumPy array to tensor\n",
        "import torch\n",
        "import numpy as np\n",
        "\n",
        "array = np.arange(1.0, 8.0)\n",
        "tensor = torch.from_numpy(array) # Warning: when converting from NumPy -> pytorch, pytorch reflects numpy's default datatype of float64 unless specified otherwise\n",
        "print(f\"NumPy's default array datatype is {array.dtype}\")\n",
        "print(f\"Tensor's default datatype is {torch.arange(1.0, 8.0).dtype}\")\n",
        "array, tensor"
      ],
      "metadata": {
        "colab": {
          "base_uri": "https://localhost:8080/"
        },
        "id": "Xo9utFUd3QNV",
        "outputId": "54e6494f-c205-48bb-a0ba-4cbf9ba1656a"
      },
      "execution_count": null,
      "outputs": [
        {
          "output_type": "stream",
          "name": "stdout",
          "text": [
            "NumPy's default array datatype is float64\n",
            "Tensor's default datatype is torch.float32\n"
          ]
        },
        {
          "output_type": "execute_result",
          "data": {
            "text/plain": [
              "(array([1., 2., 3., 4., 5., 6., 7.]),\n",
              " tensor([1., 2., 3., 4., 5., 6., 7.], dtype=torch.float64))"
            ]
          },
          "metadata": {},
          "execution_count": 121
        }
      ]
    },
    {
      "cell_type": "code",
      "source": [
        "# change the vaule of array, what will this do to tensor\n",
        "array = array +1\n",
        "array, tensor"
      ],
      "metadata": {
        "colab": {
          "base_uri": "https://localhost:8080/"
        },
        "id": "JcJRSCqL4Hq8",
        "outputId": "cc82c013-9fb9-4cbd-d5ca-247589d4d251"
      },
      "execution_count": null,
      "outputs": [
        {
          "output_type": "execute_result",
          "data": {
            "text/plain": [
              "(array([2., 3., 4., 5., 6., 7., 8.]),\n",
              " tensor([1., 2., 3., 4., 5., 6., 7.], dtype=torch.float64))"
            ]
          },
          "metadata": {},
          "execution_count": 122
        }
      ]
    },
    {
      "cell_type": "code",
      "source": [
        "# Tensor to numpy array\n",
        "new_tensor = torch.ones(7)\n",
        "numpy_tensor = new_tensor.numpy()\n",
        "new_tensor, numpy_tensor"
      ],
      "metadata": {
        "colab": {
          "base_uri": "https://localhost:8080/"
        },
        "id": "XKbjzfCW5b_L",
        "outputId": "a580e52c-c88c-4be1-d0c3-b69a202b0ed3"
      },
      "execution_count": null,
      "outputs": [
        {
          "output_type": "execute_result",
          "data": {
            "text/plain": [
              "(tensor([1., 1., 1., 1., 1., 1., 1.]),\n",
              " array([1., 1., 1., 1., 1., 1., 1.], dtype=float32))"
            ]
          },
          "metadata": {},
          "execution_count": 124
        }
      ]
    },
    {
      "cell_type": "markdown",
      "source": [
        "### Reproducibility (trying to take the random out of randomness)\n",
        "In short how a network learns:\n",
        "start with random numbers -> tensor operations -> update random numbers to try and make better representations of the data -> again -> again ->again\n",
        "\n",
        "To reduce the randomness in neural networks and PyTorch comes the concept of **random seed**.\n",
        "\n",
        "Essentially what the random seed does is \"flavor\" the randomness.\n",
        "\n",
        "*  https://pytorch.org/docs/stable/notes/randomness.html\n",
        "*  https://en.wikipedia.org/wiki/Random_seed\n"
      ],
      "metadata": {
        "id": "wYqDt_RR5znv"
      }
    },
    {
      "cell_type": "code",
      "source": [
        "import torch\n",
        "# create 2 random tensors\n",
        "random_tensor_A = torch.rand(3,4)\n",
        "random_tensor_B = torch.rand(3,4)\n",
        "\n",
        "print(random_tensor_A)\n",
        "print(random_tensor_B)\n",
        "print(random_tensor_A == random_tensor_B)"
      ],
      "metadata": {
        "colab": {
          "base_uri": "https://localhost:8080/"
        },
        "id": "qcFAYLaB66dZ",
        "outputId": "f851ef2d-e978-4728-e5f7-1480bdbfad88"
      },
      "execution_count": null,
      "outputs": [
        {
          "output_type": "stream",
          "name": "stdout",
          "text": [
            "tensor([[0.7338, 0.4322, 0.4692, 0.4189],\n",
            "        [0.1727, 0.8535, 0.9076, 0.4082],\n",
            "        [0.1377, 0.0839, 0.6715, 0.9070]])\n",
            "tensor([[0.8399, 0.6707, 0.5115, 0.5043],\n",
            "        [0.3335, 0.6919, 0.8930, 0.0106],\n",
            "        [0.6885, 0.3321, 0.6575, 0.0394]])\n",
            "tensor([[False, False, False, False],\n",
            "        [False, False, False, False],\n",
            "        [False, False, False, False]])\n"
          ]
        }
      ]
    },
    {
      "cell_type": "code",
      "source": [
        "# Lets make random but reproducible tensors\n",
        "\n",
        "import torch\n",
        "\n",
        "# Set random seed\n",
        "RANDOM_SEED = 42\n",
        "\n",
        "torch.manual_seed(RANDOM_SEED)\n",
        "random_tensor_C = torch.rand(3,4)\n",
        "\n",
        "torch.manual_seed(RANDOM_SEED)\n",
        "random_tensor_D = torch.rand(3,4)\n",
        "\n",
        "print(random_tensor_C)\n",
        "print(random_tensor_D)\n",
        "print(random_tensor_C == random_tensor_D)"
      ],
      "metadata": {
        "colab": {
          "base_uri": "https://localhost:8080/"
        },
        "id": "GSH1hhDF7jqy",
        "outputId": "65b03a57-af63-47e3-d80b-5d75811d5bee"
      },
      "execution_count": null,
      "outputs": [
        {
          "output_type": "stream",
          "name": "stdout",
          "text": [
            "tensor([[0.8823, 0.9150, 0.3829, 0.9593],\n",
            "        [0.3904, 0.6009, 0.2566, 0.7936],\n",
            "        [0.9408, 0.1332, 0.9346, 0.5936]])\n",
            "tensor([[0.8823, 0.9150, 0.3829, 0.9593],\n",
            "        [0.3904, 0.6009, 0.2566, 0.7936],\n",
            "        [0.9408, 0.1332, 0.9346, 0.5936]])\n",
            "tensor([[True, True, True, True],\n",
            "        [True, True, True, True],\n",
            "        [True, True, True, True]])\n"
          ]
        }
      ]
    },
    {
      "cell_type": "markdown",
      "source": [
        "## Running tensors and PyTorch objects on GPUs (and making faster computations)\n",
        "\n",
        "GPUs = faster computations on numbers, thanks to CUDA + NVIDIA hardware + PyTorch working behind the supports_unicode_filenames"
      ],
      "metadata": {
        "id": "2yk8C29u80tv"
      }
    },
    {
      "cell_type": "markdown",
      "source": [
        "### Getting a GPU (Video time 3:55:00)\n",
        "\n",
        "1.  Easiest - use Google collab for a free GPU (options to upgrade)\n",
        "2.  Use your own - takes some setup and the purchase of a GPU\n",
        "  * https://timdettmers.com/2023/01/30/which-gpu-for-deep-learning/\n",
        "3.  Use cloud computing - GCP, AWS, Azure\n",
        "\n",
        "### Changing to GPU in Google Collab\n",
        "![ChangeRuntime2.png](data:image/png;base64,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)![ChangeRuntime.png](data:image/png;base64,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)\n",
        "\n"
      ],
      "metadata": {
        "id": "Rw2ha-Ol9_9_"
      }
    },
    {
      "cell_type": "code",
      "source": [
        "# check for GPU access with PyTorch (Video Time 4:00:00)\n",
        "import torch\n",
        "!nvidia-smi\n",
        "print(f\"Is the GPU available? -  {torch.cuda.is_available()}\")\n",
        "print(f\"The count of GPUs available: {torch.cuda.device_count()}\")"
      ],
      "metadata": {
        "colab": {
          "base_uri": "https://localhost:8080/"
        },
        "id": "tRdseHNQ_A6q",
        "outputId": "22201fa2-e399-4329-cf44-52f3fbabca0c"
      },
      "execution_count": null,
      "outputs": [
        {
          "output_type": "stream",
          "name": "stdout",
          "text": [
            "Wed Jun  7 14:50:24 2023       \n",
            "+-----------------------------------------------------------------------------+\n",
            "| NVIDIA-SMI 525.85.12    Driver Version: 525.85.12    CUDA Version: 12.0     |\n",
            "|-------------------------------+----------------------+----------------------+\n",
            "| GPU  Name        Persistence-M| Bus-Id        Disp.A | Volatile Uncorr. ECC |\n",
            "| Fan  Temp  Perf  Pwr:Usage/Cap|         Memory-Usage | GPU-Util  Compute M. |\n",
            "|                               |                      |               MIG M. |\n",
            "|===============================+======================+======================|\n",
            "|   0  Tesla T4            Off  | 00000000:00:04.0 Off |                    0 |\n",
            "| N/A   45C    P8     9W /  70W |      0MiB / 15360MiB |      0%      Default |\n",
            "|                               |                      |                  N/A |\n",
            "+-------------------------------+----------------------+----------------------+\n",
            "                                                                               \n",
            "+-----------------------------------------------------------------------------+\n",
            "| Processes:                                                                  |\n",
            "|  GPU   GI   CI        PID   Type   Process name                  GPU Memory |\n",
            "|        ID   ID                                                   Usage      |\n",
            "|=============================================================================|\n",
            "|  No running processes found                                                 |\n",
            "+-----------------------------------------------------------------------------+\n",
            "Is the GPU available? -  True\n",
            "The count of GPUs available: 1\n"
          ]
        }
      ]
    },
    {
      "cell_type": "markdown",
      "source": [
        "For PyTorch, since it's capable of running on compute om the GPU or CPU, it's best practise to setup device agnostic code:\n",
        "*  Best practices: https://pytorch.org/docs/stable/notes/cuda.html#best-practices\n",
        "\n",
        "e.g., run on GPU if available, otherwise default to CPU"
      ],
      "metadata": {
        "id": "S_2g413KDD3y"
      }
    },
    {
      "cell_type": "code",
      "source": [
        "# Set up device agnostic code\n",
        "device = \"cuda\" if torch.cuda. is_available() else \"cpu\""
      ],
      "metadata": {
        "id": "KBt6bjeyAucM"
      },
      "execution_count": null,
      "outputs": []
    },
    {
      "cell_type": "markdown",
      "source": [
        "### 3. Put tensors (and models) on the GPU\n",
        "The reason we want our tensors/models on the the GPU is bc usinf a GPU results in fast computations"
      ],
      "metadata": {
        "id": "ZojCJgTIDbVt"
      }
    },
    {
      "cell_type": "code",
      "source": [
        "# Create a tensor (default is on CPU)\n",
        "gpu_cpu_tensor1 = torch.tensor([1,2,3], device=\"cpu\")\n",
        "gpu_cpu_tensor2 = torch.tensor([1,2,3])\n",
        "\n",
        "#Tensor not on GPU\n",
        "print(f\"Tesnor created with processor specificed: {gpu_cpu_tensor1}, {gpu_cpu_tensor1.device}\")\n",
        "print(f\"Tensor created without processor specified: {gpu_cpu_tensor2}, {gpu_cpu_tensor2.device}\")"
      ],
      "metadata": {
        "colab": {
          "base_uri": "https://localhost:8080/"
        },
        "id": "rdOc4wcDD9Jh",
        "outputId": "3a516476-c275-4832-9641-673ce9f23185"
      },
      "execution_count": null,
      "outputs": [
        {
          "output_type": "stream",
          "name": "stdout",
          "text": [
            "Tesnor created with processor specificed: tensor([1, 2, 3]), cpu\n",
            "Tensor created without processor specified: tensor([1, 2, 3]), cpu\n"
          ]
        }
      ]
    },
    {
      "cell_type": "code",
      "source": [
        "# Move tensor to GPU if available (Video time 4:08:00)\n",
        "tensor_to_gpu = gpu_cpu_tensor1.to(device)\n",
        "tensor_to_gpu"
      ],
      "metadata": {
        "colab": {
          "base_uri": "https://localhost:8080/"
        },
        "id": "ZyieF8hKEae-",
        "outputId": "a639b404-00fc-4839-e8b3-d8447df92474"
      },
      "execution_count": null,
      "outputs": [
        {
          "output_type": "execute_result",
          "data": {
            "text/plain": [
              "tensor([1, 2, 3], device='cuda:0')"
            ]
          },
          "metadata": {},
          "execution_count": 5
        }
      ]
    },
    {
      "cell_type": "markdown",
      "source": [
        "### 4. Moving tensors back to CPU"
      ],
      "metadata": {
        "id": "TIn99OeIFTJM"
      }
    },
    {
      "cell_type": "code",
      "source": [
        "# If tensor is on GPU, can't transform it to NumPy\n",
        "# tensor_to_gpu.numpy() # this will error our"
      ],
      "metadata": {
        "colab": {
          "base_uri": "https://localhost:8080/",
          "height": 184
        },
        "id": "tzWQdIjHVLLW",
        "outputId": "ba0a5066-951c-4f41-d0fb-632fe2f7d89c"
      },
      "execution_count": null,
      "outputs": [
        {
          "output_type": "error",
          "ename": "TypeError",
          "evalue": "ignored",
          "traceback": [
            "\u001b[0;31m---------------------------------------------------------------------------\u001b[0m",
            "\u001b[0;31mTypeError\u001b[0m                                 Traceback (most recent call last)",
            "\u001b[0;32m<ipython-input-6-495bef30d8bb>\u001b[0m in \u001b[0;36m<cell line: 2>\u001b[0;34m()\u001b[0m\n\u001b[1;32m      1\u001b[0m \u001b[0;31m# If tensor is on GPU, can't transform it to NumPy\u001b[0m\u001b[0;34m\u001b[0m\u001b[0;34m\u001b[0m\u001b[0m\n\u001b[0;32m----> 2\u001b[0;31m \u001b[0mtensor_to_gpu\u001b[0m\u001b[0;34m.\u001b[0m\u001b[0mnumpy\u001b[0m\u001b[0;34m(\u001b[0m\u001b[0;34m)\u001b[0m\u001b[0;34m\u001b[0m\u001b[0;34m\u001b[0m\u001b[0m\n\u001b[0m",
            "\u001b[0;31mTypeError\u001b[0m: can't convert cuda:0 device type tensor to numpy. Use Tensor.cpu() to copy the tensor to host memory first."
          ]
        }
      ]
    },
    {
      "cell_type": "code",
      "source": [
        "# To fix the GPU tensor with NumPy issue, we can first set it to CPU\n",
        "tensor_back_to_cpu = tensor_to_gpu.cpu().numpy()\n",
        "print(f\"This is the new tensor on a CPU: {tensor_back_to_cpu}\")\n",
        "print(f\"The tensor assigned to GPU still exists: {tensor_to_gpu}\")"
      ],
      "metadata": {
        "colab": {
          "base_uri": "https://localhost:8080/"
        },
        "id": "GiLSCc_cVioM",
        "outputId": "76fd5961-d1a1-44f3-cb86-76f301a5cb11"
      },
      "execution_count": null,
      "outputs": [
        {
          "output_type": "stream",
          "name": "stdout",
          "text": [
            "This is the new tensor on a CPU: [1 2 3]\n",
            "The tensor assigned to GPU still exists: tensor([1, 2, 3], device='cuda:0')\n"
          ]
        }
      ]
    },
    {
      "cell_type": "markdown",
      "source": [
        "### **For additional exercises go here** (Video time 4:12:00)\n",
        "* https://www.learnpytorch.io/00_pytorch_fundamentals/#exercises"
      ],
      "metadata": {
        "id": "yFyKW9cJWHK-"
      }
    },
    {
      "cell_type": "code",
      "source": [],
      "metadata": {
        "id": "ZIBVoI7qYS_E"
      },
      "execution_count": null,
      "outputs": []
    }
  ]
}